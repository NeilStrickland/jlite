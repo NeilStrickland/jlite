{
 "cells": [
  {
   "cell_type": "code",
   "execution_count": 1,
   "metadata": {},
   "outputs": [],
   "source": [
    "import numpy as np"
   ]
  },
  {
   "cell_type": "markdown",
   "metadata": {},
   "source": [
    "Here is a one-dimensional array"
   ]
  },
  {
   "cell_type": "code",
   "execution_count": 6,
   "metadata": {},
   "outputs": [
    {
     "data": {
      "text/plain": [
       "array([0.        , 0.52359878, 1.04719755, 1.57079633, 2.0943951 ,\n",
       "       2.61799388, 3.14159265, 3.66519143, 4.1887902 , 4.71238898,\n",
       "       5.23598776, 5.75958653, 6.28318531])"
      ]
     },
     "execution_count": 6,
     "metadata": {},
     "output_type": "execute_result"
    }
   ],
   "source": [
    "a = np.linspace(0,2*np.pi,12+1)\n",
    "a\n"
   ]
  },
  {
   "cell_type": "markdown",
   "metadata": {},
   "source": [
    "The function `np.sin` is a universal function or `ufunc`.  It can be applied directly to an array, to calculate sin of every element in the array.  Because of the way Python is implemented, this is much faster than using a loop to do the same job.  We can also apply `np.round` to the result to round each entry to three decimal places."
   ]
  },
  {
   "cell_type": "code",
   "execution_count": 7,
   "metadata": {},
   "outputs": [
    {
     "data": {
      "text/plain": [
       "array([ 0.   ,  0.5  ,  0.866,  1.   ,  0.866,  0.5  ,  0.   , -0.5  ,\n",
       "       -0.866, -1.   , -0.866, -0.5  , -0.   ])"
      ]
     },
     "execution_count": 7,
     "metadata": {},
     "output_type": "execute_result"
    }
   ],
   "source": [
    "np.round(np.sin(a),3)"
   ]
  },
  {
   "cell_type": "markdown",
   "metadata": {},
   "source": [
    "We can also add or multiply arrays of the same shape, or raise an array to a power.  This is again much faster than using loops to do the same job."
   ]
  },
  {
   "cell_type": "code",
   "execution_count": 13,
   "metadata": {},
   "outputs": [
    {
     "name": "stdout",
     "output_type": "stream",
     "text": [
      "a    = [0 1 2 3 4]\n",
      "b    = [1, 10, 100, 1000, 10000]\n",
      "a+b  = [    1    11   102  1003 10004]\n",
      "a*b  = [    0    10   200  3000 40000]\n",
      "a**2 = [ 0  1  4  9 16]\n"
     ]
    }
   ],
   "source": [
    "a = np.arange(5)\n",
    "b = [1,10,100,1000,10000]\n",
    "print(f'a    = {a}')\n",
    "print(f'b    = {b}')\n",
    "print(f'a+b  = {a+b}')\n",
    "print(f'a*b  = {a*b}')\n",
    "print(f'a**2 = {a ** 2}')"
   ]
  },
  {
   "cell_type": "markdown",
   "metadata": {},
   "source": [
    "Note that when forming `a * b` we just multiply the corresponding entries in `a` and `b`, which is *not* the same as standard matrix multiplication.  For arrays of appropriate shape, we can enter `a @ b` for the usual matrix product."
   ]
  },
  {
   "cell_type": "code",
   "execution_count": 18,
   "metadata": {},
   "outputs": [
    {
     "name": "stdout",
     "output_type": "stream",
     "text": [
      "a = \n",
      "[[1 2]\n",
      " [3 4]]\n",
      "b = \n",
      "[[ 100 1000]\n",
      " [ 100 1000]]\n",
      "a * b = \n",
      "[[ 100 2000]\n",
      " [ 300 4000]]\n",
      "a @ b = \n",
      "[[ 300 3000]\n",
      " [ 700 7000]]\n"
     ]
    }
   ],
   "source": [
    "a = np.array([[1, 2],[3, 4]])\n",
    "b = np.array([[100, 1000],[100, 1000]])\n",
    "print(f'a = \\n{a}')\n",
    "print(f'b = \\n{b}')\n",
    "print(f'a * b = \\n{a*b}')\n",
    "print(f'a @ b = \\n{a@b}')"
   ]
  },
  {
   "cell_type": "code",
   "execution_count": 20,
   "metadata": {},
   "outputs": [
    {
     "name": "stdout",
     "output_type": "stream",
     "text": [
      "Using universal function\n",
      "8.71 µs ± 46.6 ns per loop (mean ± std. dev. of 7 runs, 100,000 loops each)\n",
      "Using a loop\n",
      "919 µs ± 3.86 µs per loop (mean ± std. dev. of 7 runs, 1,000 loops each)\n"
     ]
    }
   ],
   "source": [
    "u = np.arange(1000)\n",
    "print('Using universal function')\n",
    "%timeit np.sin(u)\n",
    "print('Using a loop')\n",
    "%timeit [np.sin(x) for x in u]"
   ]
  },
  {
   "cell_type": "code",
   "execution_count": 21,
   "metadata": {},
   "outputs": [
    {
     "name": "stdout",
     "output_type": "stream",
     "text": [
      "Version 0\n",
      "214 µs ± 1.71 µs per loop (mean ± std. dev. of 7 runs, 1,000 loops each)\n",
      "Version 1\n",
      "11.6 µs ± 27.9 ns per loop (mean ± std. dev. of 7 runs, 100,000 loops each)\n",
      "Version 2\n",
      "23.3 µs ± 129 ns per loop (mean ± std. dev. of 7 runs, 10,000 loops each)\n"
     ]
    }
   ],
   "source": [
    "import random as rnd\n",
    "\n",
    "def var0(n = 1000):\n",
    "    l = []\n",
    "    for i in range(n):\n",
    "        l.append(rnd.random())\n",
    "    sum_x = 0\n",
    "    sum_x2 = 0\n",
    "    for x in l:\n",
    "        sum_x += x\n",
    "        sum_x2 += x**2\n",
    "    mean_x = sum_x / n\n",
    "    mean_x2 = sum_x2 / n\n",
    "    var = mean_x2 - mean_x**2\n",
    "    return var\n",
    "\n",
    "def var1(n = 1000):\n",
    "    l = np.random.random(n)\n",
    "    return (l ** 2).sum() / n - l.sum() ** 2 / n ** 2\n",
    "\n",
    "def var2(n = 1000):\n",
    "    return np.random.random(n).var()\n",
    "\n",
    "print('Version 0')\n",
    "%timeit var0()\n",
    "print('Version 1')\n",
    "%timeit var1()\n",
    "print('Version 2')\n",
    "%timeit var2()"
   ]
  },
  {
   "cell_type": "code",
   "execution_count": 16,
   "metadata": {},
   "outputs": [
    {
     "name": "stdout",
     "output_type": "stream",
     "text": [
      "912 µs ± 3.33 µs per loop (mean ± std. dev. of 7 runs, 1,000 loops each)\n"
     ]
    }
   ],
   "source": []
  },
  {
   "cell_type": "code",
   "execution_count": null,
   "metadata": {},
   "outputs": [],
   "source": []
  }
 ],
 "metadata": {
  "kernelspec": {
   "display_name": "Python 3",
   "language": "python",
   "name": "python3"
  },
  "language_info": {
   "codemirror_mode": {
    "name": "ipython",
    "version": 3
   },
   "file_extension": ".py",
   "mimetype": "text/x-python",
   "name": "python",
   "nbconvert_exporter": "python",
   "pygments_lexer": "ipython3",
   "version": "3.11.5"
  }
 },
 "nbformat": 4,
 "nbformat_minor": 2
}
