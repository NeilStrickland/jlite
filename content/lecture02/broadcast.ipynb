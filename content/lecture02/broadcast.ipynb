{
 "cells": [
  {
   "cell_type": "code",
   "execution_count": 1,
   "metadata": {},
   "outputs": [],
   "source": [
    "import numpy as np "
   ]
  },
  {
   "cell_type": "markdown",
   "metadata": {},
   "source": [
    "Arrays of the same shape"
   ]
  },
  {
   "cell_type": "code",
   "execution_count": 3,
   "metadata": {},
   "outputs": [
    {
     "name": "stdout",
     "output_type": "stream",
     "text": [
      "a = [1 2 3]    b = [  10  100 1000]   a * b = [  10  200 3000]\n"
     ]
    }
   ],
   "source": [
    "a = np.array([1,2,3])\n",
    "b = np.array([10,100,1000])\n",
    "print(f'a = {a}    b = {b}   a * b = {a * b}')"
   ]
  },
  {
   "cell_type": "markdown",
   "metadata": {},
   "source": [
    "Scalar times a vector: the scalar is 'broadcast' to the same shape as the vector"
   ]
  },
  {
   "cell_type": "code",
   "execution_count": 8,
   "metadata": {},
   "outputs": [
    {
     "name": "stdout",
     "output_type": "stream",
     "text": [
      "a = 42    b = [   1   10  100 1000]   a * b = [   42   420  4200 42000]   a + b = [  43   52  142 1042]\n"
     ]
    }
   ],
   "source": [
    "a = 42\n",
    "b = np.array([1,10,100,1000])\n",
    "print(f'a = {a}    b = {b}   a * b = {a * b}   a + b = {a + b}')"
   ]
  },
  {
   "cell_type": "markdown",
   "metadata": {},
   "source": [
    "Row vector of length 3 times a column vector of length 4: both are broadcast to shape $4\\times 3$"
   ]
  },
  {
   "cell_type": "code",
   "execution_count": 10,
   "metadata": {},
   "outputs": [
    {
     "name": "stdout",
     "output_type": "stream",
     "text": [
      "[[  60  600 6000]\n",
      " [  70  700 7000]\n",
      " [  80  800 8000]\n",
      " [  90  900 9000]]\n",
      "\n",
      "[[  16  106 1006]\n",
      " [  17  107 1007]\n",
      " [  18  108 1008]\n",
      " [  19  109 1009]]\n"
     ]
    }
   ],
   "source": [
    "a = np.array([10,100,1000])\n",
    "b = np.array([[6],[7],[8],[9]])\n",
    "print(a * b)\n",
    "print('')\n",
    "print(a + b)"
   ]
  },
  {
   "cell_type": "markdown",
   "metadata": {},
   "source": [
    "Matrix multiplication"
   ]
  },
  {
   "cell_type": "code",
   "execution_count": 18,
   "metadata": {},
   "outputs": [
    {
     "name": "stdout",
     "output_type": "stream",
     "text": [
      "[[1731]]\n",
      "\n",
      "[[ 66 666 666]\n",
      " [ 77 777 777]\n",
      " [ 88 888 888]]\n"
     ]
    }
   ],
   "source": [
    "u = np.array([11,111,111]).reshape(1,3)\n",
    "v = np.array([6,7,8]).reshape(3,1)\n",
    "print(u @ v)\n",
    "print('')\n",
    "print(v @ u)\n"
   ]
  },
  {
   "cell_type": "code",
   "execution_count": null,
   "metadata": {},
   "outputs": [],
   "source": []
  }
 ],
 "metadata": {
  "kernelspec": {
   "display_name": "Python 3",
   "language": "python",
   "name": "python3"
  },
  "language_info": {
   "codemirror_mode": {
    "name": "ipython",
    "version": 3
   },
   "file_extension": ".py",
   "mimetype": "text/x-python",
   "name": "python",
   "nbconvert_exporter": "python",
   "pygments_lexer": "ipython3",
   "version": "3.11.5"
  }
 },
 "nbformat": 4,
 "nbformat_minor": 2
}
