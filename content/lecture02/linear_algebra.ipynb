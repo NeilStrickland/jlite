{
 "cells": [
  {
   "cell_type": "code",
   "execution_count": 2,
   "metadata": {},
   "outputs": [],
   "source": [
    "import numpy as np\n",
    "import numpy.linalg as la"
   ]
  },
  {
   "cell_type": "code",
   "execution_count": 8,
   "metadata": {},
   "outputs": [
    {
     "name": "stdout",
     "output_type": "stream",
     "text": [
      "det(A) = 0.0\n",
      "det(1000 I + A) = 1.014982e+09\n"
     ]
    }
   ],
   "source": [
    "I = np.eye(3)\n",
    "A = np.array([[1, 2, 3], [4, 5, 6], [7, 8, 9]])\n",
    "print(f'det(A) = {la.det(A)}')\n",
    "print(f'det(1000 I + A) = {la.det(1000 * I + A):e}')"
   ]
  },
  {
   "cell_type": "code",
   "execution_count": 17,
   "metadata": {},
   "outputs": [
    {
     "name": "stdout",
     "output_type": "stream",
     "text": [
      "det(B) = 47.999999999999986\n",
      "\n",
      "Inverse of B:\n",
      "[[ 2.66666667 -1.          0.08333333]\n",
      " [-2.          1.25       -0.125     ]\n",
      " [ 0.33333333 -0.25        0.04166667]]\n",
      "\n",
      "Check: this should be zero:\n",
      "[[2.22044605e-16 0.00000000e+00 3.46944695e-17]\n",
      " [4.44089210e-16 0.00000000e+00 5.55111512e-17]\n",
      " [0.00000000e+00 0.00000000e+00 0.00000000e+00]]\n"
     ]
    }
   ],
   "source": [
    "B = np.array([[1,1,1],[2,4,8],[4,16,64]])\n",
    "print(f'det(B) = {la.det(B)}\\n')\n",
    "Bi = la.inv(B)\n",
    "print(f'Inverse of B:\\n{Bi}\\n')\n",
    "E = np.dot(B, Bi) - np.eye(3)\n",
    "print(f'Check: this should be zero:\\n{E}')"
   ]
  },
  {
   "cell_type": "code",
   "execution_count": 27,
   "metadata": {},
   "outputs": [
    {
     "name": "stdout",
     "output_type": "stream",
     "text": [
      "Eigenvalues of B: [66.13820085  0.28123851  2.58056064]\n",
      "\n",
      "Matrix whose columns are the eigenvectors:\n",
      "[[-0.01719135 -0.74702452 -0.39626684]\n",
      " [-0.12821678  0.65434583 -0.88185858]\n",
      " [-0.99159715 -0.11741338  0.25553481]]\n",
      "\n",
      "Check: this should be zero:\n",
      "[-5.32907052e-15 -5.32907052e-15  0.00000000e+00]\n"
     ]
    }
   ],
   "source": [
    "l, U = la.eig(B)\n",
    "print(f'Eigenvalues of B: {l}\\n')\n",
    "print(f'Matrix whose columns are the eigenvectors:\\n{U}\\n')\n",
    "print(f'Check: this should be zero:\\n{B @ U[:,0] - l[0] * U[:,0]}')"
   ]
  },
  {
   "cell_type": "code",
   "execution_count": 30,
   "metadata": {},
   "outputs": [
    {
     "name": "stdout",
     "output_type": "stream",
     "text": [
      "x = [ 1.75  -0.875  0.125]\n",
      "\n",
      "Check: this should be zero:\n",
      "[0. 0. 0.]\n"
     ]
    }
   ],
   "source": [
    "b = np.array([1, 1, 1])\n",
    "x = la.solve(B, b) # Solve Bx = b\n",
    "print(f'x = {x}\\n')\n",
    "print(f'Check: this should be zero:\\n{B @ x - b}')"
   ]
  },
  {
   "cell_type": "code",
   "execution_count": null,
   "metadata": {},
   "outputs": [],
   "source": []
  }
 ],
 "metadata": {
  "kernelspec": {
   "display_name": "Python 3",
   "language": "python",
   "name": "python3"
  },
  "language_info": {
   "codemirror_mode": {
    "name": "ipython",
    "version": 3
   },
   "file_extension": ".py",
   "mimetype": "text/x-python",
   "name": "python",
   "nbconvert_exporter": "python",
   "pygments_lexer": "ipython3",
   "version": "3.11.5"
  }
 },
 "nbformat": 4,
 "nbformat_minor": 2
}
