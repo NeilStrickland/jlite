{
 "cells": [
  {
   "cell_type": "code",
   "execution_count": 1,
   "metadata": {},
   "outputs": [],
   "source": [
    "import numpy as np\n",
    "import numpy.linalg as la"
   ]
  },
  {
   "cell_type": "markdown",
   "metadata": {},
   "source": [
    "In this notebook we explain a method for solving linear equations by iteration.  We will illustrate it using $2\\times 2$ matrices, for simplicity.  However, this method is only really useful for very large matrices; more direct methods are much better for the $2\\times 2$ case.\n",
    "\n",
    "We consider the matrix $A=\\begin{pmatrix}1.1 & 0.2\\\\ -0.3 & 1.9\\end{pmatrix}$.  We can write this as $A_0+A_1$, where $A_0=\\begin{pmatrix}1 & 0\\\\0 & 2\\end{pmatrix}$ (a diagonal matrix which is easy to invert) and $A_1=\\begin{pmatrix}0.1 & 0.2\\\\ -0.3&-0.1\\end{pmatrix}$ (which is quite small).  We then define $R=-A_0^{-1}A_1$.  It can be shown that the method works if the spectral radius of $R$ is less than one, i.e. all eigenvalues of $R$ have absolute value less than one."
   ]
  },
  {
   "cell_type": "code",
   "execution_count": 8,
   "metadata": {},
   "outputs": [
    {
     "name": "stdout",
     "output_type": "stream",
     "text": [
      "R=[[-0.1  -0.2 ]\n",
      " [ 0.15  0.05]]\n",
      "Eigenvalues of R: [-0.025+0.15612495j -0.025-0.15612495j]\n",
      "Spectral radius of R: 0.15811388300841897\n"
     ]
    }
   ],
   "source": [
    "A0 = np.array([[1, 0], [0, 2]])\n",
    "A1 = np.array([[0.1, 0.2], [-0.3, -0.1]])\n",
    "A = A0 + A1\n",
    "A0_inv = la.inv(A0)\n",
    "R = - A0_inv @ A1\n",
    "print(f'R={R}')\n",
    "print(f'Eigenvalues of R: {la.eigvals(R)}')\n",
    "print(f'Spectral radius of R: {np.max(np.abs(la.eigvals(R)))}')\n"
   ]
  },
  {
   "cell_type": "markdown",
   "metadata": {},
   "source": [
    "To solve $Ax=b$, we put $c=A_0^{-1}b$.  We then start with $x=0$ and replace $x$ by $Rx+c$ repeatedly (13 times in the code below).  In the limit we end up with a vector $x$ satisfying $x=Rx+c$, and a little algebra then show that $Ax=b$."
   ]
  },
  {
   "cell_type": "code",
   "execution_count": 13,
   "metadata": {},
   "outputs": [
    {
     "name": "stdout",
     "output_type": "stream",
     "text": [
      "0 [0 0]\n",
      "1 [1. 1.]\n",
      "2 [0.7 1.2]\n",
      "3 [0.69  1.165]\n",
      "4 [0.698   1.16175]\n",
      "5 [0.69785   1.1627875]\n",
      "6 [0.6976575  1.16281688]\n",
      "7 [0.69767088 1.16278947]\n",
      "8 [0.69767502 1.1627901 ]\n",
      "9 [0.69767448 1.16279076]\n",
      "10 [0.6976744  1.16279071]\n",
      "11 [0.69767442 1.1627907 ]\n",
      "12 [0.69767442 1.1627907 ]\n",
      "Solution to A x = [1 2] is x = [0.69767442 1.1627907 ]\n",
      "Check: this should be zero: [1.79856130e-12 1.20688792e-10]\n"
     ]
    }
   ],
   "source": [
    "b = np.array([1, 2])\n",
    "c = A0_inv @ b\n",
    "x = np.array([0, 0])\n",
    "for k in range(13):\n",
    "    print(k, x.T)\n",
    "    x = R @ x + c\n",
    "\n",
    "print(f'Solution to A x = {b} is x = {x.T}')\n",
    "print(f'Check: this should be zero: {A @ x - b}')\n"
   ]
  },
  {
   "cell_type": "code",
   "execution_count": null,
   "metadata": {},
   "outputs": [],
   "source": []
  }
 ],
 "metadata": {
  "kernelspec": {
   "display_name": "Python 3",
   "language": "python",
   "name": "python3"
  },
  "language_info": {
   "codemirror_mode": {
    "name": "ipython",
    "version": 3
   },
   "file_extension": ".py",
   "mimetype": "text/x-python",
   "name": "python",
   "nbconvert_exporter": "python",
   "pygments_lexer": "ipython3",
   "version": "3.11.5"
  }
 },
 "nbformat": 4,
 "nbformat_minor": 2
}
