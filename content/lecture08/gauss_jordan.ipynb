{
 "cells": [
  {
   "cell_type": "code",
   "execution_count": 2,
   "metadata": {},
   "outputs": [],
   "source": [
    "import numpy as np\n",
    "import numpy.linalg as la\n"
   ]
  },
  {
   "cell_type": "code",
   "execution_count": 4,
   "metadata": {},
   "outputs": [
    {
     "data": {
      "text/plain": [
       "array([[ 0,  2,  1],\n",
       "       [ 2, -1,  1],\n",
       "       [ 1,  3,  2]])"
      ]
     },
     "execution_count": 4,
     "metadata": {},
     "output_type": "execute_result"
    }
   ],
   "source": [
    "A = np.array([[0,2,1],[2,-1,1],[1,3,2]])\n",
    "A"
   ]
  },
  {
   "cell_type": "code",
   "execution_count": 24,
   "metadata": {},
   "outputs": [
    {
     "name": "stdout",
     "output_type": "stream",
     "text": [
      "Final result of row-reduction:\n",
      "[[ 1.  0.  0. -5. -1.  3.]\n",
      " [ 0.  1.  0. -3. -1.  2.]\n",
      " [-0. -0.  1.  7.  2. -4.]]\n",
      "\n",
      "Inverse of A:\n",
      "[[-5. -1.  3.]\n",
      " [-3. -1.  2.]\n",
      " [ 7.  2. -4.]]\n",
      "\n",
      "Check: this should be zero\n",
      "[[0. 0. 0.]\n",
      " [0. 0. 0.]\n",
      " [0. 0. 0.]]\n",
      "\n"
     ]
    }
   ],
   "source": [
    "AI = np.hstack((A, np.eye(3)))\n",
    "AI[[0,1]] = AI[[1,0]]\n",
    "AI[0] = AI[0]/AI[0,0]\n",
    "AI[2] = AI[2] - AI[0]\n",
    "AI[1] = AI[1]/AI[1,1]\n",
    "AI[0] = AI[0] - AI[0,1] * AI[1]\n",
    "AI[2] = AI[2] - AI[2,1] * AI[1]\n",
    "AI[2] = AI[2]/AI[2,2]\n",
    "AI[0] = AI[0] - AI[0,2] * AI[2]\n",
    "AI[1] = AI[1] - AI[1,2] * AI[2]\n",
    "print(f'Final result of row-reduction:\\n{AI}\\n')\n",
    "A_inv = AI[:,3:]\n",
    "print(f'Inverse of A:\\n{A_inv}\\n')\n",
    "print(f'Check: this should be zero\\n{A_inv @ A - np.eye(3)}\\n')\n"
   ]
  },
  {
   "cell_type": "code",
   "execution_count": null,
   "metadata": {},
   "outputs": [],
   "source": []
  }
 ],
 "metadata": {
  "kernelspec": {
   "display_name": "Python 3",
   "language": "python",
   "name": "python3"
  },
  "language_info": {
   "codemirror_mode": {
    "name": "ipython",
    "version": 3
   },
   "file_extension": ".py",
   "mimetype": "text/x-python",
   "name": "python",
   "nbconvert_exporter": "python",
   "pygments_lexer": "ipython3",
   "version": "3.11.5"
  }
 },
 "nbformat": 4,
 "nbformat_minor": 2
}
