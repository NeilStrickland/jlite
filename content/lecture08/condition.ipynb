{
 "cells": [
  {
   "cell_type": "code",
   "execution_count": 6,
   "metadata": {},
   "outputs": [],
   "source": [
    "import numpy as np\n",
    "import numpy.linalg as la"
   ]
  },
  {
   "cell_type": "code",
   "execution_count": 2,
   "metadata": {},
   "outputs": [],
   "source": [
    "A = np.array([[1, 2],[2, 3.999]])\n",
    "b0 = np.array([4, 7.999])\n",
    "db = np.array([0.001, -0.001])\n",
    "b1 = b0 + db"
   ]
  },
  {
   "cell_type": "code",
   "execution_count": 7,
   "metadata": {},
   "outputs": [
    {
     "name": "stdout",
     "output_type": "stream",
     "text": [
      "Solution for A x = [4.    7.999] is [2. 1.]\n",
      "Solution for A x = [4.001 7.998] is [-3.999  4.   ]\n"
     ]
    }
   ],
   "source": [
    "x0 = la.solve(A, b0)\n",
    "x1 = la.solve(A, b1)\n",
    "print(f'Solution for A x = {b0} is {x0}')\n",
    "print(f'Solution for A x = {b1} is {x1}')"
   ]
  },
  {
   "cell_type": "code",
   "execution_count": 9,
   "metadata": {},
   "outputs": [
    {
     "name": "stdout",
     "output_type": "stream",
     "text": [
      "A:\n",
      "[[1.    2.   ]\n",
      " [2.    3.999]]\n",
      "\n",
      "Inverse of A:\n",
      "[[-3999.  2000.]\n",
      " [ 2000. -1000.]]\n",
      "\n"
     ]
    }
   ],
   "source": [
    "print(f'A:\\n{A}\\n')\n",
    "A_inv = la.inv(A)\n",
    "print(f'Inverse of A:\\n{A_inv}\\n')"
   ]
  },
  {
   "cell_type": "code",
   "execution_count": 15,
   "metadata": {},
   "outputs": [
    {
     "name": "stdout",
     "output_type": "stream",
     "text": [
      "Row-sum norm of A is 5.9990000000000006\n",
      "Row-sum norm of the inverse of A is 5999.000000000661\n",
      "Condition number of A is 35988.00100000397\n",
      "Or: condition number of A is 35988.00100000397\n"
     ]
    }
   ],
   "source": [
    "nA = la.norm(A, ord=1)\n",
    "nA_inv = la.norm(A_inv, ord=1)\n",
    "cA = nA * nA_inv\n",
    "print(f'Row-sum norm of A is {nA}')\n",
    "print(f'Row-sum norm of the inverse of A is {nA_inv}')\n",
    "print(f'Condition number of A is {cA}')\n",
    "print(f'Or: condition number of A is {la.cond(A, 1)}')"
   ]
  },
  {
   "cell_type": "code",
   "execution_count": null,
   "metadata": {},
   "outputs": [],
   "source": []
  },
  {
   "cell_type": "code",
   "execution_count": null,
   "metadata": {},
   "outputs": [],
   "source": []
  }
 ],
 "metadata": {
  "kernelspec": {
   "display_name": "Python 3",
   "language": "python",
   "name": "python3"
  },
  "language_info": {
   "codemirror_mode": {
    "name": "ipython",
    "version": 3
   },
   "file_extension": ".py",
   "mimetype": "text/x-python",
   "name": "python",
   "nbconvert_exporter": "python",
   "pygments_lexer": "ipython3",
   "version": "3.11.5"
  }
 },
 "nbformat": 4,
 "nbformat_minor": 2
}
