{
 "cells": [
  {
   "cell_type": "code",
   "execution_count": null,
   "metadata": {},
   "outputs": [],
   "source": [
    "squares = [i ** 2 for i in range(1,13)]  # This is 1^2, 2^2, 3^2, ... , 12^2\n",
    "print(f'squares = {squares}')\n"
   ]
  },
  {
   "cell_type": "code",
   "execution_count": null,
   "metadata": {},
   "outputs": [],
   "source": [
    "squares_mod_five = [i % 5 for i in squares]\n",
    "print(f'squares_mod_five = {squares_mod_five}')"
   ]
  },
  {
   "cell_type": "code",
   "execution_count": null,
   "metadata": {},
   "outputs": [],
   "source": [
    "odd_cubes = [i ** 3 for i in range(1,13) if i % 2 == 1]\n",
    "odd_cubes_alt = [i ** 3 for i in range(1,13,2)]\n",
    "print(f'odd_cubes     = {odd_cubes}')\n",
    "print(f'odd_cubes_alt = {odd_cubes_alt}')"
   ]
  },
  {
   "cell_type": "code",
   "execution_count": null,
   "metadata": {},
   "outputs": [],
   "source": [
    "cubes = [i ** 3 for i in range(1,13)]\n",
    "square_cubes = [n for n in squares if n in cubes] # (Inefficient)\n",
    "square_cubes_alt = set(squares) & set(cubes) # Convert to sets and use intersection\n",
    "print(f'square_cubes     = {square_cubes}')\n",
    "print(f'square_cubes_alt = {square_cubes_alt}')"
   ]
  },
  {
   "cell_type": "code",
   "execution_count": null,
   "metadata": {},
   "outputs": [],
   "source": []
  }
 ],
 "metadata": {
  "kernelspec": {
   "display_name": "Python 3",
   "language": "python",
   "name": "python3"
  },
  "language_info": {
   "codemirror_mode": {
    "name": "ipython",
    "version": 3
   },
   "file_extension": ".py",
   "mimetype": "text/x-python",
   "name": "python",
   "nbconvert_exporter": "python",
   "pygments_lexer": "ipython3",
   "version": "3.11.5"
  }
 },
 "nbformat": 4,
 "nbformat_minor": 2
}
