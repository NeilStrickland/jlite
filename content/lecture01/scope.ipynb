{
 "cells": [
  {
   "cell_type": "markdown",
   "metadata": {},
   "source": [
    "When a function argument is a list or similar container type, then the function can modify it.  However, this does not work for numeric types."
   ]
  },
  {
   "cell_type": "code",
   "execution_count": 1,
   "metadata": {},
   "outputs": [
    {
     "name": "stdout",
     "output_type": "stream",
     "text": [
      "['elephant', 'zebra', 'aardvark']\n"
     ]
    }
   ],
   "source": [
    "def add_aardvark(x):\n",
    "    x.append('aardvark')\n",
    "\n",
    "u = ['elephant', 'zebra']\n",
    "add_aardvark(u)\n",
    "print(u)"
   ]
  },
  {
   "cell_type": "code",
   "execution_count": 2,
   "metadata": {},
   "outputs": [
    {
     "name": "stdout",
     "output_type": "stream",
     "text": [
      "1000\n"
     ]
    }
   ],
   "source": [
    "def add_forty_two(x):\n",
    "    x = x + 42\n",
    "\n",
    "n = 1000\n",
    "add_forty_two(n)\n",
    "print(n)"
   ]
  },
  {
   "cell_type": "code",
   "execution_count": 2,
   "metadata": {},
   "outputs": [
    {
     "name": "stdout",
     "output_type": "stream",
     "text": [
      "1042\n"
     ]
    }
   ],
   "source": [
    "def add_forty_two_to_n():\n",
    "    global n\n",
    "    n = n + 42\n",
    "\n",
    "# add_forty_two_to_n() # Generates an error, as n is not defined yet\n",
    "n = 1000\n",
    "add_forty_two_to_n()\n",
    "print(n)\n"
   ]
  },
  {
   "cell_type": "code",
   "execution_count": 6,
   "metadata": {},
   "outputs": [
    {
     "name": "stdout",
     "output_type": "stream",
     "text": [
      "Outside the function, the value of the global variable a is 11111\n",
      "Inside the function, the value of the local variable a is 99\n",
      "Outside the function, the value of the global variable a is still 11111\n"
     ]
    }
   ],
   "source": [
    "a = 11111\n",
    "print(f'Outside the function, the value of the global variable a is {a}')\n",
    "\n",
    "def scope_example():\n",
    "    a = 99\n",
    "    print(f'Inside the function, the value of the local variable a is {a}')\n",
    "\n",
    "scope_example()\n",
    "\n",
    "print(f'Outside the function, the value of the global variable a is still {a}')\n"
   ]
  },
  {
   "cell_type": "code",
   "execution_count": null,
   "metadata": {},
   "outputs": [],
   "source": []
  }
 ],
 "metadata": {
  "kernelspec": {
   "display_name": "Python 3",
   "language": "python",
   "name": "python3"
  },
  "language_info": {
   "codemirror_mode": {
    "name": "ipython",
    "version": 3
   },
   "file_extension": ".py",
   "mimetype": "text/x-python",
   "name": "python",
   "nbconvert_exporter": "python",
   "pygments_lexer": "ipython3",
   "version": "3.11.5"
  }
 },
 "nbformat": 4,
 "nbformat_minor": 2
}
