{
 "cells": [
  {
   "cell_type": "code",
   "execution_count": null,
   "metadata": {},
   "outputs": [],
   "source": [
    "def double(x):\n",
    "    return x * 2\n",
    "\n",
    "print(double(1111))\n",
    "print(double('abcd'))\n",
    "print(double([1, 2, 3]))\n",
    "# print(double(double)) # Generates an error: we cannot multiply a function by 2"
   ]
  },
  {
   "cell_type": "code",
   "execution_count": null,
   "metadata": {},
   "outputs": [],
   "source": [
    "def square(x):\n",
    "    return x ** 2\n",
    "\n",
    "print(square(1111))\n",
    "# print(square('abcd')) # Generates an error: we cannot square a string"
   ]
  },
  {
   "cell_type": "markdown",
   "metadata": {},
   "source": [
    "All but the most trivial functions should be documents with a docstring, as shown below."
   ]
  },
  {
   "cell_type": "code",
   "execution_count": null,
   "metadata": {},
   "outputs": [],
   "source": [
    "def emphasise(s, excitement = 1, doubt = 0):\n",
    "    \"\"\"Add emphasis to a string by adding punctuation.\n",
    "    \n",
    "    s: the string to emphasise\n",
    "    excitement: the number of exclamation marks to add\n",
    "    doubt: the number of question marks to add\n",
    "    \"\"\"\n",
    "    return s + '!' * excitement + '?' * doubt\n",
    "\n",
    "print(emphasise('Wow, that was fun')) # Uses the default values for excitement and doubt\n",
    "print(emphasise('What on earth was that', 2, 5)) # Uses the values 2 and 5 for excitement and doubt\n",
    "# When we specify the names of the arguments, we can change the order\n",
    "print(emphasise('What on earth was that', doubt = 2, excitement = 5)) "
   ]
  },
  {
   "cell_type": "code",
   "execution_count": null,
   "metadata": {},
   "outputs": [],
   "source": [
    "?emphasise"
   ]
  },
  {
   "cell_type": "code",
   "execution_count": null,
   "metadata": {},
   "outputs": [],
   "source": [
    "def fibonacci(n):\n",
    "    \"\"\"Return the list of the first n Fibonacci numbers.\"\"\"\n",
    "    if not(isinstance(n, int) and n >= 2):\n",
    "        raise ValueError('n must be a integer >= 2')\n",
    "    fib = [1, 1]\n",
    "    for i in range(2, n):\n",
    "        fib.append(fib[-1] + fib[-2])\n",
    "    return fib\n",
    "\n",
    "print(fibonacci(10))\n",
    "# print(fibonacci(1.5)) # Generates an error: we cannot compute the Fibonacci sequence for a non-integer value\n"
   ]
  },
  {
   "cell_type": "markdown",
   "metadata": {},
   "source": [
    "It is a standard fact about the Fibonacci numbers $f_n$ that $f_n/f_{n-1}$ converges to the Golden Ratio $\\tau=(1+\\sqrt{5})/2$ as $n\\to\\infty$.  We will check this next."
   ]
  },
  {
   "cell_type": "code",
   "execution_count": null,
   "metadata": {},
   "outputs": [],
   "source": [
    "tau = (1 + 5 ** 0.5) / 2   # The true golden ratio\n",
    "l  = fibonacci(100)      \n",
    "tau_approx = l[-1] / l[-2] # The approximate golden ratio f_{99}/f_{98}\n",
    "print(tau, tau_approx, tau - tau_approx)"
   ]
  },
  {
   "cell_type": "code",
   "execution_count": null,
   "metadata": {},
   "outputs": [],
   "source": []
  }
 ],
 "metadata": {
  "kernelspec": {
   "display_name": "Python 3",
   "language": "python",
   "name": "python3"
  },
  "language_info": {
   "codemirror_mode": {
    "name": "ipython",
    "version": 3
   },
   "file_extension": ".py",
   "mimetype": "text/x-python",
   "name": "python",
   "nbconvert_exporter": "python",
   "pygments_lexer": "ipython3",
   "version": "3.11.5"
  }
 },
 "nbformat": 4,
 "nbformat_minor": 2
}
