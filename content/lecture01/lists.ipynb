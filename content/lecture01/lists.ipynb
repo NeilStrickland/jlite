{
 "cells": [
  {
   "cell_type": "code",
   "execution_count": null,
   "metadata": {},
   "outputs": [],
   "source": [
    "[0, 1, 4, 9, 16]         # We can make a list by writing the entries in square brackets, separated by commas."
   ]
  },
  {
   "cell_type": "code",
   "execution_count": null,
   "metadata": {},
   "outputs": [],
   "source": [
    "list(range(10))          # range(10) is a 'generator' which is essentially the list [0, 1, ..., 9]"
   ]
  },
  {
   "cell_type": "code",
   "execution_count": null,
   "metadata": {},
   "outputs": [],
   "source": [
    "[10 ** i for i in range(5)]   # We can use a 'list comprehension' to make a new list from an old one"
   ]
  },
  {
   "cell_type": "code",
   "execution_count": null,
   "metadata": {},
   "outputs": [],
   "source": [
    "a = [\"aardvark\"]               ; print(a) # Make a list with a single entry\n",
    "a.append(\"cheetah\")            ; print(a) # Add an entry at the end.  This changes a, but does not return anything.\n",
    "a.insert(1, \"baboon\")          ; print(a) # Insert an entry at position 1 (not 0).  Again, this is an in-place operation.\n",
    "a.extend([\"dingo\", \"elephant\"]); print(a) # Add multiple entries to the end of a list.\n",
    "a.remove(\"dingo\")              ; print(a) # Remove the first entry equal to \"dingo\".\n",
    "a.reverse()                    ; print(a) # Reverse the order of the entries in a list.\n",
    "a.sort()                       ; print(a) # Sort the entries, restoring the previous order\n"
   ]
  },
  {
   "cell_type": "code",
   "execution_count": 11,
   "metadata": {},
   "outputs": [
    {
     "name": "stdout",
     "output_type": "stream",
     "text": [
      "['aardvark', 'baboon', 'cheetah', 'elephant']\n",
      "['aardvark', 'baboon', 'cheetah', 'elephant', 'banana', 'football']\n",
      "6\n"
     ]
    }
   ],
   "source": [
    "b = a + [\"banana\", \"football\"]\n",
    "print(a)  # a is unchanged\n",
    "print(b)  # b is a new list\n",
    "print(len(b))  # len() returns the length of a list"
   ]
  },
  {
   "cell_type": "code",
   "execution_count": 12,
   "metadata": {},
   "outputs": [
    {
     "name": "stdout",
     "output_type": "stream",
     "text": [
      "['football', 'baboon', 'cheetah', 'elephant', 'banana', 'aardvark']\n"
     ]
    }
   ],
   "source": [
    "b[0], b[5] = b[5], b[0]  # Swap the first and last entries of b\n",
    "print(b)"
   ]
  }
 ],
 "metadata": {
  "kernelspec": {
   "display_name": "Python 3",
   "language": "python",
   "name": "python3"
  },
  "language_info": {
   "codemirror_mode": {
    "name": "ipython",
    "version": 3
   },
   "file_extension": ".py",
   "mimetype": "text/x-python",
   "name": "python",
   "nbconvert_exporter": "python",
   "pygments_lexer": "ipython3",
   "version": "3.11.5"
  }
 },
 "nbformat": 4,
 "nbformat_minor": 2
}
