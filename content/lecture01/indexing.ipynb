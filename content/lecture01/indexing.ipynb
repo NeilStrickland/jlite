{
 "cells": [
  {
   "cell_type": "code",
   "execution_count": 14,
   "metadata": {},
   "outputs": [],
   "source": [
    "story = ['once','upon','a','time','there','were','three','little','pigs']"
   ]
  },
  {
   "cell_type": "code",
   "execution_count": 4,
   "metadata": {},
   "outputs": [
    {
     "name": "stdout",
     "output_type": "stream",
     "text": [
      "First word:        once\n",
      "Second word:       upon\n",
      "Last word:         pigs\n",
      "Next-to-last word: little\n"
     ]
    }
   ],
   "source": [
    "print(f'First word:        {story[0]}') \n",
    "print(f'Second word:       {story[1]}')\n",
    "print(f'Last word:         {story[-1]}')\n",
    "print(f'Next-to-last word: {story[-2]}')"
   ]
  },
  {
   "cell_type": "markdown",
   "metadata": {},
   "source": [
    "We can use *slicing* to copy part of a list"
   ]
  },
  {
   "cell_type": "code",
   "execution_count": 7,
   "metadata": {},
   "outputs": [
    {
     "name": "stdout",
     "output_type": "stream",
     "text": [
      "['there', 'were', 'three']\n",
      "['once', 'time', 'three']\n",
      "['pigs', 'were', 'a']\n"
     ]
    }
   ],
   "source": [
    "print(story[4:7])  # Words 4, 5, and 6 (but not 7)\n",
    "print(story[::3])  # Every third word\n",
    "print(story[::-3]) # Every third word, counting backwards from the end"
   ]
  },
  {
   "cell_type": "code",
   "execution_count": 15,
   "metadata": {},
   "outputs": [
    {
     "data": {
      "text/plain": [
       "'once upon a time there were seven enormous green pigs'"
      ]
     },
     "execution_count": 15,
     "metadata": {},
     "output_type": "execute_result"
    }
   ],
   "source": [
    "story[-3:-1] = ['seven','enormous','green'] # We can assign to a slice, possibly changing its length\n",
    "' '.join(story) # Join the words with spaces between them"
   ]
  },
  {
   "cell_type": "code",
   "execution_count": null,
   "metadata": {},
   "outputs": [],
   "source": []
  }
 ],
 "metadata": {
  "kernelspec": {
   "display_name": "Python 3",
   "language": "python",
   "name": "python3"
  },
  "language_info": {
   "codemirror_mode": {
    "name": "ipython",
    "version": 3
   },
   "file_extension": ".py",
   "mimetype": "text/x-python",
   "name": "python",
   "nbconvert_exporter": "python",
   "pygments_lexer": "ipython3",
   "version": "3.11.5"
  }
 },
 "nbformat": 4,
 "nbformat_minor": 2
}
