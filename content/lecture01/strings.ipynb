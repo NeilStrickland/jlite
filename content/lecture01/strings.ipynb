{
 "cells": [
  {
   "cell_type": "code",
   "execution_count": null,
   "metadata": {},
   "outputs": [],
   "source": [
    "question = 'What is the air-speed velocity of an unladen swallow?'\n",
    "print(f'Length : {len(question)}')"
   ]
  },
  {
   "cell_type": "code",
   "execution_count": null,
   "metadata": {},
   "outputs": [],
   "source": [
    "print(question[5:7])\n",
    "print(question[-8:])\n",
    "print([i for i in range(len(question)) if question[i] == ' ']) # Positions of spaces\n",
    "print('city' in question)          # 'city' appears as part of the word 'velocity'\n",
    "print('velociraptor' in question)  # the word 'velociraptor' is not in the question"
   ]
  },
  {
   "cell_type": "code",
   "execution_count": null,
   "metadata": {},
   "outputs": [],
   "source": [
    "'stressed'[::-1] # Reverse a string"
   ]
  },
  {
   "cell_type": "code",
   "execution_count": null,
   "metadata": {},
   "outputs": [],
   "source": [
    "cities_string = 'Sheffield, New York, Paris, Hong Kong, Chicago, Los Angeles, Tokyo'\n",
    "cities = cities_string.split(',') # Split on commas\n",
    "print(cities) # Note that the spaces are still there\n",
    "cities = list(map(str.strip, cities)) # Remove the spaces\n",
    "print(cities)\n",
    "print(' and '.join(cities))"
   ]
  },
  {
   "cell_type": "code",
   "execution_count": null,
   "metadata": {},
   "outputs": [],
   "source": [
    "request = 'Please can I have a cookie'\n",
    "print(f'Original:         {request}')\n",
    "print(f'Lower case:       {request.lower()}')\n",
    "print(f'Upper case:       {request.upper()}')\n",
    "print(f'Capitalize words: {request.title()}')\n",
    "print(f'Improved:         {request.replace(\"cookie\",\"chocolate cake\")}')\n"
   ]
  }
 ],
 "metadata": {
  "kernelspec": {
   "display_name": "Python 3",
   "language": "python",
   "name": "python3"
  },
  "language_info": {
   "codemirror_mode": {
    "name": "ipython",
    "version": 3
   },
   "file_extension": ".py",
   "mimetype": "text/x-python",
   "name": "python",
   "nbconvert_exporter": "python",
   "pygments_lexer": "ipython3",
   "version": "3.11.5"
  }
 },
 "nbformat": 4,
 "nbformat_minor": 2
}
