{
 "cells": [
  {
   "cell_type": "code",
   "execution_count": null,
   "metadata": {},
   "outputs": [],
   "source": [
    "a = 1000       # Set a to 1000\n",
    "b = 999        # Set b to 999\n",
    "a + b"
   ]
  },
  {
   "cell_type": "code",
   "execution_count": null,
   "metadata": {},
   "outputs": [],
   "source": [
    "u = [1,2,3,4]  # Set u to [1,2,3,4]\n",
    "v = u          # Make v refer to the same list as u\n",
    "w = u.copy()   # Make w refer to a separate copy of u\n",
    "v.append(999)  # Append 999 to u\n",
    "print(f'u = {u},  v = {v},  w = {w}')"
   ]
  },
  {
   "cell_type": "markdown",
   "metadata": {},
   "source": [
    "Note: lists are *mutable* (above, we changed the list `v`); but strings and tuples are *immutable*"
   ]
  },
  {
   "cell_type": "code",
   "execution_count": null,
   "metadata": {},
   "outputs": [],
   "source": [
    "a == 1000, b == 1000      # Test if a or b equals 1000"
   ]
  },
  {
   "cell_type": "markdown",
   "metadata": {},
   "source": [
    "For lists `p` and `q`: the expression `p == q` is `True` if `p` and `q` have the same entries, but `p is q` is only true if `p` and `q` are the same object."
   ]
  },
  {
   "cell_type": "code",
   "execution_count": null,
   "metadata": {},
   "outputs": [],
   "source": [
    "p = [999,99,9]\n",
    "q = p \n",
    "r = [999,99,9]\n",
    "s = p.copy()\n",
    "print((p == q, p == r, p == s))     # Are the entries the same?\n",
    "print((p is q, p is r, p is s))     # Are the objects the same?\n",
    "print((id(p), id(q), id(r), id(s))) # Different objects have different id numbers"
   ]
  },
  {
   "cell_type": "code",
   "execution_count": null,
   "metadata": {},
   "outputs": [],
   "source": [
    "a = 1 + 1\n",
    "b = 2\n",
    "c = 3\n",
    "print(f'a < b : {a < b}  a < c : {a < c}  a <= b : {a <= b}  a <= c : {a <= c}')"
   ]
  }
 ],
 "metadata": {
  "kernelspec": {
   "display_name": "Python 3",
   "language": "python",
   "name": "python3"
  },
  "language_info": {
   "codemirror_mode": {
    "name": "ipython",
    "version": 3
   },
   "file_extension": ".py",
   "mimetype": "text/x-python",
   "name": "python",
   "nbconvert_exporter": "python",
   "pygments_lexer": "ipython3",
   "version": "3.11.5"
  }
 },
 "nbformat": 4,
 "nbformat_minor": 2
}
