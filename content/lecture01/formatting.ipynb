{
 "cells": [
  {
   "cell_type": "code",
   "execution_count": 2,
   "metadata": {},
   "outputs": [
    {
     "name": "stdout",
     "output_type": "stream",
     "text": [
      "The value of x is 0.142857 to six decimal places\n",
      "The ten-digit serial number is 0000087639\n",
      "2 ^ 100 is approximately 1.27e+30 (in scientific notation)\n"
     ]
    }
   ],
   "source": [
    "x = 1/7\n",
    "print(f'The value of x is {x:.6f} to six decimal places') # The ':.6f' specifies 6 decimal places\n",
    "serial_number = 87639\n",
    "print(f'The ten-digit serial number is {serial_number:010d}')\n",
    "print(f'2 ^ 100 is approximately {2**100:.2e} (in scientific notation)')"
   ]
  },
  {
   "cell_type": "code",
   "execution_count": 3,
   "metadata": {},
   "outputs": [
    {
     "name": "stdout",
     "output_type": "stream",
     "text": [
      "The list [9, 8, 7, 6] contains 4 elements\n",
      "The list [9, 8, 7, 6] still contains 4 elements\n"
     ]
    }
   ],
   "source": [
    "l = [9,8,7,6]\n",
    "print('The list ' + repr(l) + ' contains ' + str(len(l)) + ' elements')\n",
    "print(f'The list {l} still contains {len(l)} elements')"
   ]
  },
  {
   "cell_type": "code",
   "execution_count": 9,
   "metadata": {},
   "outputs": [
    {
     "name": "stdout",
     "output_type": "stream",
     "text": [
      "65 66 90\n",
      "97 98 122\n",
      "63 126 38 32\n"
     ]
    }
   ],
   "source": [
    "print(ord('A'), ord('B'), ord('Z')) # ASCII/Unicode codes for A, B, Z\n",
    "print(ord('a'), ord('b'), ord('z')) # ASCII/Unicode codes for a, b, c\n",
    "print(ord('?'), ord('~'), ord('&'), ord(' '))"
   ]
  },
  {
   "cell_type": "code",
   "execution_count": 15,
   "metadata": {},
   "outputs": [
    {
     "name": "stdout",
     "output_type": "stream",
     "text": [
      "A B C D\n",
      "abcdefghijklmnopqrstuvwxyz\n"
     ]
    }
   ],
   "source": [
    "print(chr(65), chr(66), chr(67), chr(68)) # chr() is the inverse of ord()\n",
    "print(''.join([chr(97+i) for i in range(26)])) # full aplhabet"
   ]
  },
  {
   "cell_type": "code",
   "execution_count": null,
   "metadata": {},
   "outputs": [],
   "source": []
  }
 ],
 "metadata": {
  "kernelspec": {
   "display_name": "Python 3",
   "language": "python",
   "name": "python3"
  },
  "language_info": {
   "codemirror_mode": {
    "name": "ipython",
    "version": 3
   },
   "file_extension": ".py",
   "mimetype": "text/x-python",
   "name": "python",
   "nbconvert_exporter": "python",
   "pygments_lexer": "ipython3",
   "version": "3.11.5"
  }
 },
 "nbformat": 4,
 "nbformat_minor": 2
}
