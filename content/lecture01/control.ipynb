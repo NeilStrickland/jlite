{
 "cells": [
  {
   "cell_type": "code",
   "execution_count": null,
   "metadata": {},
   "outputs": [],
   "source": [
    "for i in range(1,10):\n",
    "    j = i * i\n",
    "    print(f'The square of {i} is {j}')"
   ]
  },
  {
   "cell_type": "code",
   "execution_count": null,
   "metadata": {},
   "outputs": [],
   "source": [
    "i = 1\n",
    "while i * i < 42:\n",
    "    print(f'The square of {i} is {i*i}, which is less than 42')\n",
    "    i += 1 # Do not forget to increment i, or the loop will never end!\n",
    "print(f'The square of {i} is {i*i}, which is >= 42')"
   ]
  },
  {
   "cell_type": "code",
   "execution_count": null,
   "metadata": {},
   "outputs": [],
   "source": [
    "# Example of a break statement to exit a loop early\n",
    "found = False\n",
    "for i in range(1000):\n",
    "    if i * i == 196:\n",
    "        found = True\n",
    "        print(f'The square root of 196 is {i}')\n",
    "        break # Exit the loop\n",
    "    \n",
    "if not found:\n",
    "    print('No square root found')"
   ]
  },
  {
   "cell_type": "code",
   "execution_count": null,
   "metadata": {},
   "outputs": [],
   "source": [
    "# Animal noises using if-elif-else\n",
    "animal = 'cat'\n",
    "if animal == 'pig':\n",
    "    print('oink')\n",
    "elif animal == 'dog':\n",
    "    print('woof')\n",
    "elif animal == 'cat':\n",
    "    print('meow')\n",
    "elif animal == 'cow':\n",
    "    print('moo')\n",
    "else:\n",
    "    print('I do not recognize that animal')"
   ]
  },
  {
   "cell_type": "code",
   "execution_count": null,
   "metadata": {},
   "outputs": [],
   "source": [
    "# Animal noises using a dictionary\n",
    "animal = 'aarvark'\n",
    "noises = {'pig': 'oink', 'dog': 'woof', 'cat': 'meow', 'cow': 'moo'}\n",
    "print(noises[animal] if animal in noises else 'I do not recognize that animal')"
   ]
  },
  {
   "cell_type": "code",
   "execution_count": null,
   "metadata": {},
   "outputs": [],
   "source": []
  }
 ],
 "metadata": {
  "kernelspec": {
   "display_name": "Python 3",
   "language": "python",
   "name": "python3"
  },
  "language_info": {
   "codemirror_mode": {
    "name": "ipython",
    "version": 3
   },
   "file_extension": ".py",
   "mimetype": "text/x-python",
   "name": "python",
   "nbconvert_exporter": "python",
   "pygments_lexer": "ipython3",
   "version": "3.11.5"
  }
 },
 "nbformat": 4,
 "nbformat_minor": 2
}
